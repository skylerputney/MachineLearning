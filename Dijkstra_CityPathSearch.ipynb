{
  "nbformat": 4,
  "nbformat_minor": 0,
  "metadata": {
    "colab": {
      "provenance": [],
      "authorship_tag": "ABX9TyNt1mJh6Z38a3My17uQClz4",
      "include_colab_link": true
    },
    "kernelspec": {
      "name": "python3",
      "display_name": "Python 3"
    },
    "language_info": {
      "name": "python"
    }
  },
  "cells": [
    {
      "cell_type": "markdown",
      "metadata": {
        "id": "view-in-github",
        "colab_type": "text"
      },
      "source": [
        "<a href=\"https://colab.research.google.com/github/skylerputney/MachineLearning/blob/main/Dijkstra_CityPathSearch.ipynb\" target=\"_parent\"><img src=\"https://colab.research.google.com/assets/colab-badge.svg\" alt=\"Open In Colab\"/></a>"
      ]
    },
    {
      "cell_type": "markdown",
      "source": [
        "#Define and Populate a Data Structure\n",
        "The following defines a data structure (graph representation) containing the cities and their inner-city links and cost (road distance in miles) for the Romania example shown in Figure 3.1 on page 64 of *Artificial Intelligence A Modern Approach Fourth Edition* by Stuart Russell and Peter Norvig.\n",
        "\n",
        "The data structure is formatted as a dictionary of dictionaries such that the key of the outer dictionary is a city and its value is a dictionary containing neighboring cities (keys) and the traversal cost (values)."
      ],
      "metadata": {
        "id": "jVAx41td-Njn"
      }
    },
    {
      "cell_type": "code",
      "execution_count": null,
      "metadata": {
        "id": "xvRDdTqfAeQX"
      },
      "outputs": [],
      "source": [
        "romania_map = {\n",
        "    'Neamt': {'Iasi': 87},\n",
        "    'Iasi': {'Neamt': 87, 'Vaslui': 92},\n",
        "    'Vaslui': {'Iasi': 92, 'Urziceni': 142},\n",
        "    'Urziceni': {'Vaslui': 142, 'Hirsova': 98, 'Bucharest': 85},\n",
        "    'Hirsova': {'Urziceni': 98, 'Eforie': 86},\n",
        "    'Eforie': {'Hirsova': 86},\n",
        "    'Bucharest': {'Urziceni': 85, 'Giurgiu': 90, 'Pitesti': 101, 'Fagaras': 211},\n",
        "    'Giurgiu': {'Bucharest': 90},\n",
        "    'Pitesti': {'Bucharest': 101, 'Craiova': 138, 'Rimnicu Vilcea': 97},\n",
        "    'Fagaras': {'Bucharest': 211, 'Sibiu': 99},\n",
        "    'Craiova': {'Pitesti': 138, 'Rimnicu Vilcea': 146, 'Drobeta': 120},\n",
        "    'Rimnicu Vilcea': {'Pitesti': 97, 'Sibiu': 80, 'Craiova': 146},\n",
        "    'Sibiu': {'Fagaras': 99, 'Rimnicu Vilcea': 80, 'Arad': 140, 'Oradea': 151},\n",
        "    'Drobeta': {'Craiova': 120, 'Mehadia': 75},\n",
        "    'Mehadia': {'Drobeta': 75, 'Lugoj': 70},\n",
        "    'Lugoj': {'Mehadia': 75, 'Timisoara': 111},\n",
        "    'Timisoara': {'Lugoj': 111, 'Arad': 118},\n",
        "    'Arad': {'Timisoara': 118, 'Sibiu': 140, 'Zerind': 75},\n",
        "    'Zerind': {'Arad': 75, 'Oradea': 71},\n",
        "    'Oradea': {'Zerind': 71, 'Sibiu': 151}\n",
        "}"
      ]
    },
    {
      "cell_type": "markdown",
      "source": [
        "#Define a Node Data Structure\n",
        "The following defines a Node data structure for use by the Uniform Cost Search Algorithm\n",
        "\n",
        "The Node data structure features the following attributes:\n",
        "\n",
        "*   state: The state to which the node corresponds (city)\n",
        "*   parent: The node which generated this node (previous city)\n",
        "*   path_cost: Cumulative cost to reach this node from initial state\n",
        "\n",
        "The parent defaults to None and path_cost to 0 if no value is given, representing the initial state.\n",
        "\n",
        "The Node data structure has the following functions:\n",
        "*   get_path(self): Reconstructs the path from the initial state to this node\n",
        "*   \\_\\_lt\\_\\_(self, other): Defines comparison method for Node objects based on path_cost so that a PriorityQueue can maintain nodes in ascending path_cost order\n",
        "\n"
      ],
      "metadata": {
        "id": "UYSjHdTlAu3g"
      }
    },
    {
      "cell_type": "code",
      "source": [
        "class Node:\n",
        "  def __init__(self, state, parent=None, path_cost=0):\n",
        "    self.state = state\n",
        "    self.parent = parent\n",
        "    self.path_cost = path_cost\n",
        "\n",
        "  def get_path(self):\n",
        "    path = []\n",
        "    node = self\n",
        "    while node is not None:  # Loop through until reaching initial state\n",
        "      path.append(node.state)  # Append current state to path\n",
        "      node = node.parent  # Retrieve parent for next loop iteration\n",
        "    return path[::-1]  # Reverse path to get in-order from initial state to current state\n",
        "\n",
        "  def __lt__(self, other):\n",
        "    return self.path_cost < other.path_cost  # Let PriorityQueue compare nodes based on path_cost\n"
      ],
      "metadata": {
        "id": "tlh5NKAyBe8n"
      },
      "execution_count": null,
      "outputs": []
    },
    {
      "cell_type": "markdown",
      "source": [
        "#Display Routes Algorithm Explores\n",
        "Formats and prints the Initialization or Given Iteration's Frontier Queue by:\n",
        "1. Converting the PriorityQueue to a list to make it iterable and sorting by ascending path_cost to get an in-order print with lowest-cost-path first.\n",
        "2. Checking if the iteration is 0, and if so, printing the Initialization message formatted as: { [ start_state , 0 ] } before returning\n",
        "3. Joining nodes' paths (cities traversed) with '->' and formatting them and the traversal cost as: [ path , cost ] where path is like: A->B->...\n",
        "4. Joining prior formatted paths and associated costs with ' , '\n",
        "5. Formatting a resultant Iteration string as: IterationX: { prior_joined_formatted_paths_and_costs }\n",
        "6. Printing the resultant Iteration string"
      ],
      "metadata": {
        "id": "Z8pqs6T7Csw0"
      }
    },
    {
      "cell_type": "code",
      "source": [
        "def print_frontier(frontier_queue, iteration):\n",
        "  frontier_list = sorted(list(frontier_queue.queue), key=lambda node: node.path_cost)  # Convert PriorityQueue to list to make iterable, sort by ascending cost\n",
        "  if iteration == 0:\n",
        "      print(f\"Initialization: {{ [ {frontier_list[0].state} , 0 ] }}\")  # Print Initialization, formatted like : { [ Initial_State , 0 ]}\n",
        "      return  # Prevent printing in Iteration format\n",
        "  formatted_frontier_queue = [f\"[ {'->'.join(node.get_path())} , {node.path_cost} ]\" for node in frontier_list]  # Format each path as: [ A->B->... , cost ]\n",
        "  formatted_frontier_queue_string = ' , '.join(formatted_frontier_queue)  # Format current iteration's paths as: { [ A->B->... , cost] , [ A->B->... , cost] , ... }\n",
        "  formatted_iteration_string = f\"Iteration{iteration}: {{ {formatted_frontier_queue_string} }}\"  # Format iteration as: IterationX: { [ A->B->... , cost] , [ A->B->... , cost] , ... }\n",
        "  print(formatted_iteration_string)  # Print formatted iteration string"
      ],
      "metadata": {
        "id": "Bx2EXKvWFJVv"
      },
      "execution_count": null,
      "outputs": []
    },
    {
      "cell_type": "markdown",
      "source": [
        "#Implementation of the Uniform-Cost Search Algorithm (Dijkstra's Algorithm)\n",
        "General-form implementation of the uniform-cost search algorithm based on a best-first-search algorithm with the evaluation function being path_cost.\n",
        "\n",
        "Inputs:\n",
        "* Graph defined as a dictionary containing entries: State: {NeighborState1: Cost, NeighborState2: Cost, ...}, ...\n",
        "* Initial (starting) State\n",
        "* Destination (goal) State\n",
        "\n",
        "Prints:\n",
        "* Frontier Queue with paths and costs at Initialization and each Iteration, excepting the last\n",
        "* Solution with best path on last Iteration\n",
        "* No Path Found message if algorithm fails to find a valid path\n",
        "\n",
        "Output:\n",
        "* Solution Node, or None in event of failure\n"
      ],
      "metadata": {
        "id": "sTLSq-JxGwRI"
      }
    },
    {
      "cell_type": "code",
      "source": [
        "import queue\n",
        "\n",
        "def uniform_cost_search(graph, start, dest):\n",
        "  frontier = queue.PriorityQueue()  # Nodes that have been discovered but not yet explored, maintained in lowest-cost-first order\n",
        "  initial_node = Node(start)  # Node for initial (starting) state\n",
        "  frontier.put(initial_node)  # Initialize frontier with initial Node\n",
        "  reached = {start: initial_node}  # Nodes that have been generated (could or could not be yet expanded)\n",
        "  iteration = 0  # Track current iteration\n",
        "\n",
        "  while not frontier.empty():  # Search until frontier queue is empty\n",
        "    print_frontier(frontier, iteration)  # Print frontier from previous iteration\n",
        "    iteration += 1  # Increment iteration count\n",
        "    current_node = frontier.get()  # Obtain node with lowest path_cost\n",
        "\n",
        "    if current_node.state == dest:  # Destination (goal) has been reached\n",
        "      print(f\"Solution: Iteration{iteration} gives the final output as {'->'.join(current_node.get_path())}.\")  # Print solution (best route from origin to destination)\n",
        "      return current_node  # Return solution node\n",
        "\n",
        "    # Expand the current_node, add its unreached neighbors to frontier or replace reached neighbor if lower cost path is found\n",
        "    for neighbor_node_state, traversal_cost in graph[current_node.state].items():  # Get neighbor node's state and traversal cost from the current_node from graph\n",
        "      new_cost = current_node.path_cost + traversal_cost  # Obtain total traversal cost to neighbor node from initial state\n",
        "      if neighbor_node_state not in reached or new_cost < reached[neighbor_node_state].path_cost:  # If neighbor node has not been generated or a lower cost path is found\n",
        "        neighbor_node = Node(neighbor_node_state, current_node, new_cost)  # Generate neighbor node\n",
        "        reached[neighbor_node_state] = neighbor_node  # Mark neighbor node as generated\n",
        "        frontier.put(neighbor_node)  # Add neighbor node to frontier\n",
        "\n",
        "  # Failed to find a path\n",
        "  print(f'No path found from {start} to {dest}.')\n",
        "  return None\n"
      ],
      "metadata": {
        "id": "MS8ZP34_G2gc"
      },
      "execution_count": null,
      "outputs": []
    },
    {
      "cell_type": "markdown",
      "source": [
        "#Prompt User for City of Origin and Destination City and Run the Algorithm\n",
        "Obtains an origin and destination city from the user and calls the Uniform-Cost Search Algorithm.\n",
        "\n",
        "Strips any leading/trailing whitespace from the gathered input.\n",
        "\n",
        "Inputs are case-sensitive according to the defined romania_map:\n",
        "*   First letter of each word in the city name must be capitalized and all other characters lowercase\n",
        "\n",
        "If an invalid city name is entered, an AssertionError is raised, an error message printed, and execution stops."
      ],
      "metadata": {
        "id": "CnMbKn0ZfhLq"
      }
    },
    {
      "cell_type": "code",
      "source": [
        "origin = input(\"Please enter the city of origin from the Romania map: \").strip()  # Gather origin city input, strip whitespace\n",
        "assert origin in romania_map, f\"{origin} not found in Romania map. Please enter a valid origin city.\"\n",
        "destination = input(\"Please enter the destination city from the Romania map: \").strip()  # Gather destination city input, strip whitespace\n",
        "assert destination in romania_map, f\"{destination} not found in Romania map. Please enter a valid destination city.\"\n",
        "\n",
        "_ = uniform_cost_search(romania_map, origin, destination)  # Run the algorithm, discard returned result node to prevent printing"
      ],
      "metadata": {
        "colab": {
          "base_uri": "https://localhost:8080/"
        },
        "id": "jlhlGPrrfjTF",
        "outputId": "b344ad27-a1f6-497c-f8ca-d66b3a94823c"
      },
      "execution_count": null,
      "outputs": [
        {
          "output_type": "stream",
          "name": "stdout",
          "text": [
            "Please enter the city of origin from the Romania map: Bucharest\n",
            "Please enter the destination city from the Romania map: Rimnicu Vilcea\n",
            "Initialization: { [ Bucharest , 0 ] }\n",
            "Iteration1: { [ Bucharest->Urziceni , 85 ] , [ Bucharest->Giurgiu , 90 ] , [ Bucharest->Pitesti , 101 ] , [ Bucharest->Fagaras , 211 ] }\n",
            "Iteration2: { [ Bucharest->Giurgiu , 90 ] , [ Bucharest->Pitesti , 101 ] , [ Bucharest->Urziceni->Hirsova , 183 ] , [ Bucharest->Fagaras , 211 ] , [ Bucharest->Urziceni->Vaslui , 227 ] }\n",
            "Iteration3: { [ Bucharest->Pitesti , 101 ] , [ Bucharest->Urziceni->Hirsova , 183 ] , [ Bucharest->Fagaras , 211 ] , [ Bucharest->Urziceni->Vaslui , 227 ] }\n",
            "Iteration4: { [ Bucharest->Urziceni->Hirsova , 183 ] , [ Bucharest->Pitesti->Rimnicu Vilcea , 198 ] , [ Bucharest->Fagaras , 211 ] , [ Bucharest->Urziceni->Vaslui , 227 ] , [ Bucharest->Pitesti->Craiova , 239 ] }\n",
            "Iteration5: { [ Bucharest->Pitesti->Rimnicu Vilcea , 198 ] , [ Bucharest->Fagaras , 211 ] , [ Bucharest->Urziceni->Vaslui , 227 ] , [ Bucharest->Pitesti->Craiova , 239 ] , [ Bucharest->Urziceni->Hirsova->Eforie , 269 ] }\n",
            "Solution: Iteration6 gives the final output as Bucharest->Pitesti->Rimnicu Vilcea.\n"
          ]
        }
      ]
    }
  ]
}